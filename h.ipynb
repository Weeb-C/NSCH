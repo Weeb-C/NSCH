{
 "cells": [
  {
   "cell_type": "code",
   "execution_count": 2,
   "metadata": {},
   "outputs": [
    {
     "name": "stdout",
     "output_type": "stream",
     "text": [
      "Your browser has been opened to visit:\n",
      "\n",
      "    https://accounts.google.com/o/oauth2/auth?client_id=847622577824-fti6ii4r4i58dno3o6q1ms70shukj5qa.apps.googleusercontent.com&redirect_uri=http%3A%2F%2Flocalhost%3A8080%2F&scope=https%3A%2F%2Fwww.googleapis.com%2Fauth%2Fdrive&access_type=offline&response_type=code\n",
      "\n",
      "Authentication successful.\n",
      "Processing AAPL...\n"
     ]
    },
    {
     "name": "stderr",
     "output_type": "stream",
     "text": [
      "[*********************100%***********************]  1 of 1 completed\n"
     ]
    },
    {
     "name": "stdout",
     "output_type": "stream",
     "text": [
      "Uploaded AAPL_stock_data.csv successfully.\n",
      "Uploaded AAPL_candlestick_chart.html successfully.\n"
     ]
    },
    {
     "name": "stderr",
     "output_type": "stream",
     "text": [
      "[*********************100%***********************]  1 of 1 completed"
     ]
    },
    {
     "name": "stdout",
     "output_type": "stream",
     "text": [
      "Processing MSFT...\n"
     ]
    },
    {
     "name": "stderr",
     "output_type": "stream",
     "text": [
      "\n"
     ]
    },
    {
     "name": "stdout",
     "output_type": "stream",
     "text": [
      "Uploaded MSFT_stock_data.csv successfully.\n",
      "Uploaded MSFT_candlestick_chart.html successfully.\n",
      "Processing TSLA...\n"
     ]
    },
    {
     "name": "stderr",
     "output_type": "stream",
     "text": [
      "[*********************100%***********************]  1 of 1 completed\n"
     ]
    },
    {
     "name": "stdout",
     "output_type": "stream",
     "text": [
      "Uploaded TSLA_stock_data.csv successfully.\n",
      "Uploaded TSLA_candlestick_chart.html successfully.\n",
      "Processing AMZN...\n"
     ]
    },
    {
     "name": "stderr",
     "output_type": "stream",
     "text": [
      "[*********************100%***********************]  1 of 1 completed\n"
     ]
    },
    {
     "name": "stdout",
     "output_type": "stream",
     "text": [
      "Uploaded AMZN_stock_data.csv successfully.\n",
      "Uploaded AMZN_candlestick_chart.html successfully.\n"
     ]
    }
   ],
   "source": [
    "import yfinance as yf\n",
    "import pandas as pd\n",
    "import plotly.graph_objects as go\n",
    "from pydrive.auth import GoogleAuth\n",
    "from pydrive.drive import GoogleDrive\n",
    "from datetime import datetime\n",
    "import time\n",
    "\n",
    "def authenticate_google_drive():\n",
    "    gauth = GoogleAuth()\n",
    "    gauth.LocalWebserverAuth()  \n",
    "    drive = GoogleDrive(gauth)  \n",
    "    return drive\n",
    "\n",
    "def fetch_stock_data(ticker, start_date, end_date, retries=3):\n",
    "    \"\"\"Fetch stock data using yfinance with retries in case of failure.\"\"\"\n",
    "    for i in range(retries):\n",
    "        try:\n",
    "            data = yf.download(ticker, start=start_date, end=end_date)\n",
    "            if data.empty:\n",
    "                print(f\"No data fetched for {ticker}.\")\n",
    "            return data\n",
    "        except Exception as e:\n",
    "            print(f\"Error fetching data for {ticker}, attempt {i + 1}/{retries}: {e}\")\n",
    "            if i < retries - 1:\n",
    "                time.sleep(2)  \n",
    "            else:\n",
    "                return None\n",
    "\n",
    "def calculate_sma(data, window=5):\n",
    "    if 'Close' in data.columns:\n",
    "        data['SMA_5'] = data['Close'].rolling(window=window).mean()\n",
    "    else:\n",
    "        print(\"No 'Close' column found in data.\")\n",
    "    return data\n",
    "\n",
    "def plot_candlestick(data, ticker, filename):\n",
    "    \"\"\"Generate and save a candlestick chart with SMA to an HTML file.\"\"\"\n",
    "    if not all(col in data.columns for col in ['Open', 'High', 'Low', 'Close']):\n",
    "        print(f\"Data missing required fields for {ticker}. Skipping plot generation.\")\n",
    "        return\n",
    "\n",
    "    fig = go.Figure(data=[go.Candlestick(x=data.index,\n",
    "                                         open=data['Open'],\n",
    "                                         high=data['High'],\n",
    "                                         low=data['Low'],\n",
    "                                         close=data['Close'])])\n",
    "    if 'SMA_5' in data.columns:\n",
    "        fig.add_trace(go.Scatter(x=data.index, y=data['SMA_5'], mode='lines', name='SMA 5'))\n",
    "\n",
    "    fig.update_layout(title=f'Candlestick Chart with 5-period SMA for {ticker}',\n",
    "                      xaxis_title='Date',\n",
    "                      yaxis_title='Price')\n",
    "    fig.write_html(filename)\n",
    "\n",
    "def upload_to_drive(drive, file_path, title, retries=3):\n",
    "    for i in range(retries):\n",
    "        try:\n",
    "            file1 = drive.CreateFile({'title': title})\n",
    "            file1.SetContentFile(file_path)\n",
    "            file1.Upload()\n",
    "            print(f\"Uploaded {title} successfully.\")\n",
    "            break\n",
    "        except Exception as e:\n",
    "            print(f\"Error uploading {file_path} to Google Drive, attempt {i + 1}/{retries}: {e}\")\n",
    "            if i < retries - 1:\n",
    "                time.sleep(2)\n",
    "            else:\n",
    "                print(f\"Failed to upload {file_path} after {retries} attempts.\")\n",
    "\n",
    "def main():\n",
    "    \n",
    "    try:\n",
    "        tickers = pd.read_csv('hmm.csv')['ticker'].dropna().tolist()\n",
    "    except FileNotFoundError:\n",
    "        print(\"File 'hmm.csv' not found. Ensure the file exists and has a 'ticker' column.\")\n",
    "        return\n",
    "    except KeyError:\n",
    "        print(\"The CSV file does not contain a 'ticker' column.\")\n",
    "        return\n",
    "\n",
    "    start_date = '2023-01-01'\n",
    "    end_date = '2024-01-01'\n",
    "\n",
    "    \n",
    "    drive = authenticate_google_drive()\n",
    "\n",
    "    for ticker in tickers:\n",
    "        print(f\"Processing {ticker}...\")\n",
    "\n",
    "        stock_data = fetch_stock_data(ticker, start_date, end_date)\n",
    "        \n",
    "        if stock_data is not None and not stock_data.empty:\n",
    "            stock_data = calculate_sma(stock_data)\n",
    "            csv_filename = f'{ticker}_stock_data.csv'\n",
    "            stock_data.to_csv(csv_filename)\n",
    "\n",
    "            html_filename = f'{ticker}_candlestick_chart.html'\n",
    "            plot_candlestick(stock_data, ticker, html_filename)\n",
    "\n",
    "            \n",
    "            upload_to_drive(drive, csv_filename, f'{ticker}_stock_data.csv')\n",
    "            upload_to_drive(drive, html_filename, f'{ticker}_candlestick_chart.html')\n",
    "\n",
    "            time.sleep(5)  \n",
    "        else:\n",
    "            print(f\"Skipping {ticker} due to empty or failed stock data.\")\n",
    "\n",
    "if __name__ == \"__main__\":\n",
    "    main()\n"
   ]
  },
  {
   "cell_type": "code",
   "execution_count": null,
   "metadata": {},
   "outputs": [],
   "source": []
  }
 ],
 "metadata": {
  "kernelspec": {
   "display_name": "newenv",
   "language": "python",
   "name": "python3"
  },
  "language_info": {
   "codemirror_mode": {
    "name": "ipython",
    "version": 3
   },
   "file_extension": ".py",
   "mimetype": "text/x-python",
   "name": "python",
   "nbconvert_exporter": "python",
   "pygments_lexer": "ipython3",
   "version": "3.12.4"
  }
 },
 "nbformat": 4,
 "nbformat_minor": 2
}
